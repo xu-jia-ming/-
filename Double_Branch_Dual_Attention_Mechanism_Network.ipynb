{
  "nbformat": 4,
  "nbformat_minor": 0,
  "metadata": {
    "colab": {
      "provenance": [],
      "authorship_tag": "ABX9TyN5/DvNanJ5Sf8+POm4yyZO",
      "include_colab_link": true
    },
    "kernelspec": {
      "name": "python3",
      "display_name": "Python 3"
    },
    "language_info": {
      "name": "python"
    },
    "gpuClass": "standard",
    "accelerator": "GPU"
  },
  "cells": [
    {
      "cell_type": "markdown",
      "metadata": {
        "id": "view-in-github",
        "colab_type": "text"
      },
      "source": [
        "<a href=\"https://colab.research.google.com/github/xu-jia-ming/-/blob/main/Double_Branch_Dual_Attention_Mechanism_Network.ipynb\" target=\"_parent\"><img src=\"https://colab.research.google.com/assets/colab-badge.svg\" alt=\"Open In Colab\"/></a>"
      ]
    },
    {
      "cell_type": "code",
      "execution_count": 1,
      "metadata": {
        "colab": {
          "base_uri": "https://localhost:8080/"
        },
        "id": "re6qox3hRyUO",
        "outputId": "fc3328e9-58eb-446f-c4b8-78e0e56c1efb"
      },
      "outputs": [
        {
          "output_type": "stream",
          "name": "stdout",
          "text": [
            "Cloning into 'Double-Branch-Dual-Attention-Mechanism-Network'...\n",
            "remote: Enumerating objects: 273, done.\u001b[K\n",
            "remote: Counting objects: 100% (27/27), done.\u001b[K\n",
            "remote: Compressing objects: 100% (27/27), done.\u001b[K\n",
            "remote: Total 273 (delta 12), reused 0 (delta 0), pack-reused 246\u001b[K\n",
            "Receiving objects: 100% (273/273), 6.04 MiB | 6.46 MiB/s, done.\n",
            "Resolving deltas: 100% (117/117), done.\n"
          ]
        }
      ],
      "source": [
        "!git clone https://github.com/xu-jia-ming/Double-Branch-Dual-Attention-Mechanism-Network.git"
      ]
    },
    {
      "cell_type": "code",
      "source": [
        "cd Double-Branch-Dual-Attention-Mechanism-Network/"
      ],
      "metadata": {
        "colab": {
          "base_uri": "https://localhost:8080/"
        },
        "id": "aVXZfPWESDSs",
        "outputId": "825fc3bd-caa6-42b9-ee93-180922968337"
      },
      "execution_count": 2,
      "outputs": [
        {
          "output_type": "stream",
          "name": "stdout",
          "text": [
            "/content/Double-Branch-Dual-Attention-Mechanism-Network\n"
          ]
        }
      ]
    },
    {
      "cell_type": "code",
      "source": [
        "ls"
      ],
      "metadata": {
        "colab": {
          "base_uri": "https://localhost:8080/"
        },
        "id": "TK-hEmU3EYIg",
        "outputId": "1d26f94b-7f9c-4d7a-e73c-fe0af9d868a0"
      },
      "execution_count": 3,
      "outputs": [
        {
          "output_type": "stream",
          "name": "stdout",
          "text": [
            "\u001b[0m\u001b[01;34mCDCNN\u001b[0m/     \u001b[01;34mDBDA\u001b[0m/  \u001b[01;34mFDSSC\u001b[0m/    \u001b[01;34mglobal_module\u001b[0m/  README.md  \u001b[01;34mSVM_RBF\u001b[0m/\n",
            "\u001b[01;34mdatasets\u001b[0m/  \u001b[01;34mDBMA\u001b[0m/  \u001b[01;34mfigures\u001b[0m/  LICENSE         \u001b[01;34mSSRN\u001b[0m/\n"
          ]
        }
      ]
    },
    {
      "cell_type": "code",
      "source": [
        "!wget --help"
      ],
      "metadata": {
        "id": "FSBSEgsqD7sD"
      },
      "execution_count": null,
      "outputs": []
    },
    {
      "cell_type": "code",
      "source": [
        "!wget -p ./datasets https://www.ehu.eus/ccwintco/uploads/2/22/Indian_pines.mat "
      ],
      "metadata": {
        "id": "oN8ScWGMCfVy"
      },
      "execution_count": null,
      "outputs": []
    },
    {
      "cell_type": "code",
      "source": [
        "!apt-get install python3.7"
      ],
      "metadata": {
        "id": "7KU9-GGDOhix"
      },
      "execution_count": null,
      "outputs": []
    },
    {
      "cell_type": "code",
      "source": [
        "!cp -r /usr/local/lib/python3.9/dist-packages /usr/local/lib/python3.7/"
      ],
      "metadata": {
        "id": "DjZ4-30VPN4k"
      },
      "execution_count": 10,
      "outputs": []
    },
    {
      "cell_type": "code",
      "source": [
        "!python3.7 -m pip numpy==1.19"
      ],
      "metadata": {
        "id": "Yl4UP4K-O5zq"
      },
      "execution_count": null,
      "outputs": []
    },
    {
      "cell_type": "code",
      "source": [
        "!wget https://www.ehu.eus/ccwintco/uploads/6/67/Indian_pines_corrected.mat\n",
        "!wget https://www.ehu.eus/ccwintco/uploads/c/c4/Indian_pines_gt.mat"
      ],
      "metadata": {
        "id": "tBxlyLvNEtfU"
      },
      "execution_count": null,
      "outputs": []
    },
    {
      "cell_type": "code",
      "source": [
        "cd DBDA/"
      ],
      "metadata": {
        "colab": {
          "base_uri": "https://localhost:8080/"
        },
        "id": "KXdpg2K5ZmDC",
        "outputId": "a640988c-40df-4429-8295-125a0e859b8c"
      },
      "execution_count": 14,
      "outputs": [
        {
          "output_type": "stream",
          "name": "stdout",
          "text": [
            "/content/Double-Branch-Dual-Attention-Mechanism-Network/DBDA\n"
          ]
        }
      ]
    },
    {
      "cell_type": "code",
      "source": [
        "# !pip uninstall numpy\n",
        "!pip install numpy==1.22"
      ],
      "metadata": {
        "colab": {
          "base_uri": "https://localhost:8080/"
        },
        "id": "Ju5uhKXYGhzX",
        "outputId": "ea8bdcce-5c18-412e-fc12-00b2e5c27986"
      },
      "execution_count": 24,
      "outputs": [
        {
          "output_type": "stream",
          "name": "stdout",
          "text": [
            "Looking in indexes: https://pypi.org/simple, https://us-python.pkg.dev/colab-wheels/public/simple/\n",
            "Collecting numpy==1.22\n",
            "  Downloading numpy-1.22.0-cp39-cp39-manylinux_2_17_x86_64.manylinux2014_x86_64.whl (16.8 MB)\n",
            "\u001b[2K     \u001b[90m━━━━━━━━━━━━━━━━━━━━━━━━━━━━━━━━━━━━━━━━\u001b[0m \u001b[32m16.8/16.8 MB\u001b[0m \u001b[31m51.0 MB/s\u001b[0m eta \u001b[36m0:00:00\u001b[0m\n",
            "\u001b[?25hInstalling collected packages: numpy\n",
            "\u001b[31mERROR: pip's dependency resolver does not currently take into account all the packages that are installed. This behaviour is the source of the following dependency conflicts.\n",
            "librosa 0.10.0.post2 requires numpy!=1.22.0,!=1.22.1,!=1.22.2,>=1.20.3, but you have numpy 1.22.0 which is incompatible.\u001b[0m\u001b[31m\n",
            "\u001b[0mSuccessfully installed numpy-1.22.0\n"
          ]
        }
      ]
    },
    {
      "cell_type": "code",
      "source": [
        "!python main.py"
      ],
      "metadata": {
        "id": "vXyJpPFJZrVb"
      },
      "execution_count": null,
      "outputs": []
    },
    {
      "cell_type": "code",
      "source": [],
      "metadata": {
        "id": "HRmi-IhEaCqt"
      },
      "execution_count": null,
      "outputs": []
    }
  ]
}